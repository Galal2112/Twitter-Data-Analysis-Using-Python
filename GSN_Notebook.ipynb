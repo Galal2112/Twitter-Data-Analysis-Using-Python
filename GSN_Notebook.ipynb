{
 "cells": [
  {
   "cell_type": "code",
   "execution_count": 11,
   "metadata": {},
   "outputs": [],
   "source": [
    "import re\n",
    "\n",
    "import tweepy\n",
    "import pandas as pd\n"
   ]
  },
  {
   "cell_type": "code",
   "execution_count": 3,
   "metadata": {},
   "outputs": [],
   "source": [
    "api_key = 'ALR6ExjYkMBfebl33tcjXyZ4s'\n",
    "api_key_secret = 'nDDTt61clONQ8isJifsLT7nqhxfjHFFlo6W8rl2SblhPMeVLk3'\n",
    "\n",
    "access_token = '2317868736-6BMg18lkng6EIY2nrSSoISburY9QcaUovk78xPY'\n",
    "access_token_secret = 'UcHtfXjvurM4dT9ZpMgvwDfZ2ukQtEGQqaLEfhueSeFyq'\n",
    "\n",
    "auth = tweepy.OAuthHandler(api_key, api_key_secret)\n",
    "auth.set_access_token(access_token, access_token_secret)\n",
    "\n",
    "api = tweepy.API(auth)\n",
    "\n",
    "\n",
    "\n",
    "limit=500\n",
    "\n",
    "keywords = '#HaltDieFresse'\n",
    "\n",
    "tweets = tweepy.Cursor(api.search_tweets, q=keywords, count=100, tweet_mode='extended').items(limit)\n",
    "\n",
    "columns = ['Tweet']\n",
    "data = []\n",
    "\n",
    "for tweet in tweets:\n",
    "    data.append([tweet.full_text])\n",
    "\n",
    "df = pd.DataFrame(data, columns=columns)\n",
    "df.to_csv('#HaltDieFresse_tweets.csv')\n",
    "\n",
    "\n",
    "\n",
    "keywords = '#heute'\n",
    "\n",
    "tweets = tweepy.Cursor(api.search_tweets, q=keywords, count=100, tweet_mode='extended').items(limit)\n",
    "\n",
    "columns = ['Tweet']\n",
    "data = []\n",
    "\n",
    "for tweet in tweets:\n",
    "    data.append([tweet.full_text])\n",
    "\n",
    "df = pd.DataFrame(data, columns=columns)\n",
    "df.to_csv('#heute_tweets.csv')\n",
    "\n",
    "\n",
    "\n",
    "keywords = '#DankeMerkel'\n",
    "\n",
    "tweets = tweepy.Cursor(api.search_tweets, q=keywords, count=100, tweet_mode='extended').items(limit)\n",
    "\n",
    "columns = ['Tweet']\n",
    "data = []\n",
    "\n",
    "for tweet in tweets:\n",
    "    data.append([tweet.full_text])\n",
    "\n",
    "df = pd.DataFrame(data, columns=columns)\n",
    "df.to_csv('#DankeMerkel_tweets.csv')\n",
    "\n",
    "\n",
    "\n",
    "keywords = 'Fresse'\n",
    "\n",
    "tweets = tweepy.Cursor(api.search_tweets, q=keywords, count=100, tweet_mode='extended').items(limit)\n",
    "\n",
    "\n",
    "columns = ['Tweet']\n",
    "data = []\n",
    "\n",
    "for tweet in tweets:\n",
    "    data.append([tweet.full_text])\n",
    "\n",
    "df = pd.DataFrame(data, columns=columns)\n",
    "df.to_csv('Fresse_tweets.csv')\n",
    "\n",
    "\n",
    "\n",
    "keywords = 'heute'\n",
    "\n",
    "tweets = tweepy.Cursor(api.search_tweets, q=keywords, count=100, tweet_mode='extended').items(limit)\n",
    "\n",
    "columns = ['Tweet']\n",
    "data = []\n",
    "\n",
    "for tweet in tweets:\n",
    "    data.append([tweet.full_text])\n",
    "\n",
    "df = pd.DataFrame(data, columns=columns)\n",
    "df.to_csv('heute_tweets.csv')\n",
    "\n",
    "\n",
    "\n",
    "keywords = 'danke Merkel'\n",
    "\n",
    "tweets = tweepy.Cursor(api.search_tweets, q=keywords, count=100, tweet_mode='extended').items(limit)\n",
    "\n",
    "columns = ['Tweet']\n",
    "data = []\n",
    "\n",
    "for tweet in tweets:\n",
    "    data.append([tweet.full_text])\n",
    "\n",
    "df = pd.DataFrame(data, columns=columns)\n",
    "df.to_csv('danke-Merkel_tweets.csv')\n",
    "\n",
    "\n"
   ]
  },
  {
   "cell_type": "code",
   "execution_count": 24,
   "metadata": {},
   "outputs": [
    {
     "data": {
      "text/plain": "                                                 Tweet\n0    RT @derVossi_: Mal eine Frage:\\nIst das heute ...\n1    @Rosi_unterwegs @HelenaPiks @skypromusic Alles...\n2    RT @LibertyLucas26: Heute sind die Grundrechte...\n3                                     Läuft heute #BVB\n4       Also @woodyinho hat Bock heute\\n\\n🖤💛\\n #BVBBMG\n..                                                 ...\n495  RT @kartenkaro: [https://t.co/G152H8Imlf💛] Mia...\n496  RT @Noobs_iMTV: Guuude \\nheute ist der letzte ...\n497  RT @subversive_th: #Servicetweet Discours-Masc...\n498  Mir geht's heute nicht gut. Entfolgt an einem ...\n499  RT @LotharNawrath: 'Obwohl sich die Anschuldig...\n\n[500 rows x 1 columns]",
      "text/html": "<div>\n<style scoped>\n    .dataframe tbody tr th:only-of-type {\n        vertical-align: middle;\n    }\n\n    .dataframe tbody tr th {\n        vertical-align: top;\n    }\n\n    .dataframe thead th {\n        text-align: right;\n    }\n</style>\n<table border=\"1\" class=\"dataframe\">\n  <thead>\n    <tr style=\"text-align: right;\">\n      <th></th>\n      <th>Tweet</th>\n    </tr>\n  </thead>\n  <tbody>\n    <tr>\n      <th>0</th>\n      <td>RT @derVossi_: Mal eine Frage:\\nIst das heute ...</td>\n    </tr>\n    <tr>\n      <th>1</th>\n      <td>@Rosi_unterwegs @HelenaPiks @skypromusic Alles...</td>\n    </tr>\n    <tr>\n      <th>2</th>\n      <td>RT @LibertyLucas26: Heute sind die Grundrechte...</td>\n    </tr>\n    <tr>\n      <th>3</th>\n      <td>Läuft heute #BVB</td>\n    </tr>\n    <tr>\n      <th>4</th>\n      <td>Also @woodyinho hat Bock heute\\n\\n🖤💛\\n #BVBBMG</td>\n    </tr>\n    <tr>\n      <th>...</th>\n      <td>...</td>\n    </tr>\n    <tr>\n      <th>495</th>\n      <td>RT @kartenkaro: [https://t.co/G152H8Imlf💛] Mia...</td>\n    </tr>\n    <tr>\n      <th>496</th>\n      <td>RT @Noobs_iMTV: Guuude \\nheute ist der letzte ...</td>\n    </tr>\n    <tr>\n      <th>497</th>\n      <td>RT @subversive_th: #Servicetweet Discours-Masc...</td>\n    </tr>\n    <tr>\n      <th>498</th>\n      <td>Mir geht's heute nicht gut. Entfolgt an einem ...</td>\n    </tr>\n    <tr>\n      <th>499</th>\n      <td>RT @LotharNawrath: 'Obwohl sich die Anschuldig...</td>\n    </tr>\n  </tbody>\n</table>\n<p>500 rows × 1 columns</p>\n</div>"
     },
     "execution_count": 24,
     "metadata": {},
     "output_type": "execute_result"
    }
   ],
   "source": [
    "df = pd.DataFrame(pd.read_csv('heute_tweets.csv'), columns=['Tweet'])\n",
    "df"
   ]
  },
  {
   "cell_type": "code",
   "execution_count": 29,
   "metadata": {},
   "outputs": [
    {
     "data": {
      "text/plain": "                                                 Tweet\n0    _: Mal eine Frage:\\nIst das heute die Ruhe vor...\n1    _unterwegs   Alles gut  blockchainopfer war ic...\n2    : Heute sind die Grundrechte 706 Tage in Haft....\n3                                      Läuft heute BVB\n4                    Also  hat Bock heute\\n\\n\\n BVBBMG\n..                                                 ...\n495  : [ Mia Daniels und die praktische Führerschei...\n496  _iMTV: Guuude \\nheute ist der letzte Warmup Qu...\n497  _th: Servicetweet Discours-Maschine: Corona, Q...\n498  Mir geht's heute nicht gut. Entfolgt an einem ...\n499  : 'Obwohl sich die Anschuldigung des ARD-Magaz...\n\n[500 rows x 1 columns]",
      "text/html": "<div>\n<style scoped>\n    .dataframe tbody tr th:only-of-type {\n        vertical-align: middle;\n    }\n\n    .dataframe tbody tr th {\n        vertical-align: top;\n    }\n\n    .dataframe thead th {\n        text-align: right;\n    }\n</style>\n<table border=\"1\" class=\"dataframe\">\n  <thead>\n    <tr style=\"text-align: right;\">\n      <th></th>\n      <th>Tweet</th>\n    </tr>\n  </thead>\n  <tbody>\n    <tr>\n      <th>0</th>\n      <td>_: Mal eine Frage:\\nIst das heute die Ruhe vor...</td>\n    </tr>\n    <tr>\n      <th>1</th>\n      <td>_unterwegs   Alles gut  blockchainopfer war ic...</td>\n    </tr>\n    <tr>\n      <th>2</th>\n      <td>: Heute sind die Grundrechte 706 Tage in Haft....</td>\n    </tr>\n    <tr>\n      <th>3</th>\n      <td>Läuft heute BVB</td>\n    </tr>\n    <tr>\n      <th>4</th>\n      <td>Also  hat Bock heute\\n\\n\\n BVBBMG</td>\n    </tr>\n    <tr>\n      <th>...</th>\n      <td>...</td>\n    </tr>\n    <tr>\n      <th>495</th>\n      <td>: [ Mia Daniels und die praktische Führerschei...</td>\n    </tr>\n    <tr>\n      <th>496</th>\n      <td>_iMTV: Guuude \\nheute ist der letzte Warmup Qu...</td>\n    </tr>\n    <tr>\n      <th>497</th>\n      <td>_th: Servicetweet Discours-Maschine: Corona, Q...</td>\n    </tr>\n    <tr>\n      <th>498</th>\n      <td>Mir geht's heute nicht gut. Entfolgt an einem ...</td>\n    </tr>\n    <tr>\n      <th>499</th>\n      <td>: 'Obwohl sich die Anschuldigung des ARD-Magaz...</td>\n    </tr>\n  </tbody>\n</table>\n<p>500 rows × 1 columns</p>\n</div>"
     },
     "execution_count": 29,
     "metadata": {},
     "output_type": "execute_result"
    }
   ],
   "source": [
    "\n",
    "#vorverarbeitung von  txt\n",
    "def txtVerarbeitung(txt):\n",
    "    txt = re.sub(r'@[A-Za-z0-9]+', '' ,txt)\n",
    "    txt = re.sub(r'#','',txt)\n",
    "    txt = re.sub(r'RT[\\s]+','',txt)\n",
    "    txt = re.sub(r'https?:\\/\\/\\S+','',txt)\n",
    "    regrex_pattern = re.compile(pattern = \"[\"\n",
    "         u\"\\U0001F600-\\U0001F64F\"  # emoticons\n",
    "        u\"\\U0001F300-\\U0001F5FF\"  # symbols & pictographs\n",
    "        u\"\\U0001F680-\\U0001F6FF\"  # transport & map symbols\n",
    "        u\"\\U0001F1E0-\\U0001F1FF\"  # flags (iOS)\n",
    "        u\"\\U00002500-\\U00002BEF\"  # chinese char\n",
    "        u\"\\U00002702-\\U000027B0\"\n",
    "        u\"\\U00002702-\\U000027B0\"\n",
    "        u\"\\U000024C2-\\U0001F251\"\n",
    "        u\"\\U0001f926-\\U0001f937\"\n",
    "        u\"\\U00010000-\\U0010ffff\"\n",
    "        u\"\\u2640-\\u2642\"\n",
    "        u\"\\u2600-\\u2B55\"\n",
    "        u\"\\u200d\"\n",
    "        u\"\\u23cf\"\n",
    "        u\"\\u23e9\"\n",
    "        u\"\\u231a\"\n",
    "        u\"\\ufe0f\"  # dingbats\n",
    "        u\"\\u3030\"\n",
    "                           \"]+\", flags = re.UNICODE)\n",
    "    txt = regrex_pattern.sub(r'',txt)\n",
    "\n",
    "    return txt\n",
    "\n",
    "df['Tweet'] = df['Tweet'].apply(txtVerarbeitung)\n",
    "\n",
    "df"
   ]
  },
  {
   "cell_type": "code",
   "execution_count": null,
   "outputs": [],
   "source": [],
   "metadata": {
    "collapsed": false,
    "pycharm": {
     "name": "#%%\n"
    }
   }
  }
 ],
 "metadata": {
  "kernelspec": {
   "display_name": "Python 3",
   "language": "python",
   "name": "python3"
  },
  "language_info": {
   "codemirror_mode": {
    "name": "ipython",
    "version": 3
   },
   "file_extension": ".py",
   "mimetype": "text/x-python",
   "name": "python",
   "nbconvert_exporter": "python",
   "pygments_lexer": "ipython3",
   "version": "3.8.5"
  }
 },
 "nbformat": 4,
 "nbformat_minor": 4
}